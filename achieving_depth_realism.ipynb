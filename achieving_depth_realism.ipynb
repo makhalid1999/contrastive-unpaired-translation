{
  "nbformat": 4,
  "nbformat_minor": 0,
  "metadata": {
    "colab": {
      "provenance": [],
      "gpuType": "T4",
      "include_colab_link": true
    },
    "kernelspec": {
      "name": "python3",
      "display_name": "Python 3"
    },
    "language_info": {
      "name": "python"
    },
    "gpuClass": "standard",
    "accelerator": "GPU"
  },
  "cells": [
    {
      "cell_type": "markdown",
      "metadata": {
        "id": "view-in-github",
        "colab_type": "text"
      },
      "source": [
        "<a href=\"https://colab.research.google.com/github/makhalid1999/contrastive-unpaired-translation/blob/master/achieving_depth_realism.ipynb\" target=\"_parent\"><img src=\"https://colab.research.google.com/assets/colab-badge.svg\" alt=\"Open In Colab\"/></a>"
      ]
    },
    {
      "cell_type": "markdown",
      "source": [
        "# **Achieving Depth Realism**"
      ],
      "metadata": {
        "id": "d-ORZKduXMIr"
      }
    },
    {
      "cell_type": "markdown",
      "source": [
        "Installing the required packages"
      ],
      "metadata": {
        "id": "dRahOtZrYLdw"
      }
    },
    {
      "cell_type": "code",
      "source": [
        "!pip install visdom"
      ],
      "metadata": {
        "colab": {
          "base_uri": "https://localhost:8080/"
        },
        "id": "u8DiwheVcUab",
        "outputId": "535b457f-7743-452d-c64e-f6f80640eb3b"
      },
      "execution_count": null,
      "outputs": [
        {
          "output_type": "stream",
          "name": "stdout",
          "text": [
            "Looking in indexes: https://pypi.org/simple, https://us-python.pkg.dev/colab-wheels/public/simple/\n",
            "Collecting visdom\n",
            "  Downloading visdom-0.2.4.tar.gz (1.4 MB)\n",
            "\u001b[2K     \u001b[90m━━━━━━━━━━━━━━━━━━━━━━━━━━━━━━━━━━━━━━━━\u001b[0m \u001b[32m1.4/1.4 MB\u001b[0m \u001b[31m12.6 MB/s\u001b[0m eta \u001b[36m0:00:00\u001b[0m\n",
            "\u001b[?25h  Preparing metadata (setup.py) ... \u001b[?25l\u001b[?25hdone\n",
            "Requirement already satisfied: numpy>=1.8 in /usr/local/lib/python3.10/dist-packages (from visdom) (1.22.4)\n",
            "Requirement already satisfied: scipy in /usr/local/lib/python3.10/dist-packages (from visdom) (1.10.1)\n",
            "Requirement already satisfied: requests in /usr/local/lib/python3.10/dist-packages (from visdom) (2.27.1)\n",
            "Requirement already satisfied: tornado in /usr/local/lib/python3.10/dist-packages (from visdom) (6.3.1)\n",
            "Requirement already satisfied: six in /usr/local/lib/python3.10/dist-packages (from visdom) (1.16.0)\n",
            "Collecting jsonpatch (from visdom)\n",
            "  Downloading jsonpatch-1.32-py2.py3-none-any.whl (12 kB)\n",
            "Requirement already satisfied: websocket-client in /usr/local/lib/python3.10/dist-packages (from visdom) (1.5.1)\n",
            "Requirement already satisfied: networkx in /usr/local/lib/python3.10/dist-packages (from visdom) (3.1)\n",
            "Requirement already satisfied: pillow in /usr/local/lib/python3.10/dist-packages (from visdom) (8.4.0)\n",
            "Collecting jsonpointer>=1.9 (from jsonpatch->visdom)\n",
            "  Downloading jsonpointer-2.3-py2.py3-none-any.whl (7.8 kB)\n",
            "Requirement already satisfied: urllib3<1.27,>=1.21.1 in /usr/local/lib/python3.10/dist-packages (from requests->visdom) (1.26.15)\n",
            "Requirement already satisfied: certifi>=2017.4.17 in /usr/local/lib/python3.10/dist-packages (from requests->visdom) (2022.12.7)\n",
            "Requirement already satisfied: charset-normalizer~=2.0.0 in /usr/local/lib/python3.10/dist-packages (from requests->visdom) (2.0.12)\n",
            "Requirement already satisfied: idna<4,>=2.5 in /usr/local/lib/python3.10/dist-packages (from requests->visdom) (3.4)\n",
            "Building wheels for collected packages: visdom\n",
            "  Building wheel for visdom (setup.py) ... \u001b[?25l\u001b[?25hdone\n",
            "  Created wheel for visdom: filename=visdom-0.2.4-py3-none-any.whl size=1408196 sha256=0a46e102843ace49cb83741890f46c73ef0c00e7f39f782daba243e441a5e1c5\n",
            "  Stored in directory: /root/.cache/pip/wheels/42/29/49/5bed207bac4578e4d2c0c5fc0226bfd33a7e2953ea56356855\n",
            "Successfully built visdom\n",
            "Installing collected packages: jsonpointer, jsonpatch, visdom\n",
            "Successfully installed jsonpatch-1.32 jsonpointer-2.3 visdom-0.2.4\n"
          ]
        }
      ]
    },
    {
      "cell_type": "code",
      "source": [
        "!pip install dominate"
      ],
      "metadata": {
        "colab": {
          "base_uri": "https://localhost:8080/"
        },
        "id": "8KsgTLdccU4p",
        "outputId": "44ccb658-aa39-41cc-bcc4-d0b2dc705991"
      },
      "execution_count": null,
      "outputs": [
        {
          "output_type": "stream",
          "name": "stdout",
          "text": [
            "Looking in indexes: https://pypi.org/simple, https://us-python.pkg.dev/colab-wheels/public/simple/\n",
            "Collecting dominate\n",
            "  Downloading dominate-2.8.0-py2.py3-none-any.whl (29 kB)\n",
            "Installing collected packages: dominate\n",
            "Successfully installed dominate-2.8.0\n"
          ]
        }
      ]
    },
    {
      "cell_type": "code",
      "source": [
        "!pip install torch-fidelity\n",
        "!pip install torchmetrics"
      ],
      "metadata": {
        "colab": {
          "base_uri": "https://localhost:8080/"
        },
        "id": "JJpEPsd1SWww",
        "outputId": "85ae2f3c-40a8-451c-9510-5843da102dcb"
      },
      "execution_count": null,
      "outputs": [
        {
          "output_type": "stream",
          "name": "stdout",
          "text": [
            "Looking in indexes: https://pypi.org/simple, https://us-python.pkg.dev/colab-wheels/public/simple/\n",
            "Collecting torch-fidelity\n",
            "  Downloading torch_fidelity-0.3.0-py3-none-any.whl (37 kB)\n",
            "Requirement already satisfied: numpy in /usr/local/lib/python3.10/dist-packages (from torch-fidelity) (1.22.4)\n",
            "Requirement already satisfied: Pillow in /usr/local/lib/python3.10/dist-packages (from torch-fidelity) (8.4.0)\n",
            "Requirement already satisfied: scipy in /usr/local/lib/python3.10/dist-packages (from torch-fidelity) (1.10.1)\n",
            "Requirement already satisfied: torch in /usr/local/lib/python3.10/dist-packages (from torch-fidelity) (2.0.1+cu118)\n",
            "Requirement already satisfied: torchvision in /usr/local/lib/python3.10/dist-packages (from torch-fidelity) (0.15.2+cu118)\n",
            "Requirement already satisfied: tqdm in /usr/local/lib/python3.10/dist-packages (from torch-fidelity) (4.65.0)\n",
            "Requirement already satisfied: filelock in /usr/local/lib/python3.10/dist-packages (from torch->torch-fidelity) (3.12.0)\n",
            "Requirement already satisfied: typing-extensions in /usr/local/lib/python3.10/dist-packages (from torch->torch-fidelity) (4.5.0)\n",
            "Requirement already satisfied: sympy in /usr/local/lib/python3.10/dist-packages (from torch->torch-fidelity) (1.11.1)\n",
            "Requirement already satisfied: networkx in /usr/local/lib/python3.10/dist-packages (from torch->torch-fidelity) (3.1)\n",
            "Requirement already satisfied: jinja2 in /usr/local/lib/python3.10/dist-packages (from torch->torch-fidelity) (3.1.2)\n",
            "Requirement already satisfied: triton==2.0.0 in /usr/local/lib/python3.10/dist-packages (from torch->torch-fidelity) (2.0.0)\n",
            "Requirement already satisfied: cmake in /usr/local/lib/python3.10/dist-packages (from triton==2.0.0->torch->torch-fidelity) (3.25.2)\n",
            "Requirement already satisfied: lit in /usr/local/lib/python3.10/dist-packages (from triton==2.0.0->torch->torch-fidelity) (16.0.5)\n",
            "Requirement already satisfied: requests in /usr/local/lib/python3.10/dist-packages (from torchvision->torch-fidelity) (2.27.1)\n",
            "Requirement already satisfied: MarkupSafe>=2.0 in /usr/local/lib/python3.10/dist-packages (from jinja2->torch->torch-fidelity) (2.1.2)\n",
            "Requirement already satisfied: urllib3<1.27,>=1.21.1 in /usr/local/lib/python3.10/dist-packages (from requests->torchvision->torch-fidelity) (1.26.15)\n",
            "Requirement already satisfied: certifi>=2017.4.17 in /usr/local/lib/python3.10/dist-packages (from requests->torchvision->torch-fidelity) (2022.12.7)\n",
            "Requirement already satisfied: charset-normalizer~=2.0.0 in /usr/local/lib/python3.10/dist-packages (from requests->torchvision->torch-fidelity) (2.0.12)\n",
            "Requirement already satisfied: idna<4,>=2.5 in /usr/local/lib/python3.10/dist-packages (from requests->torchvision->torch-fidelity) (3.4)\n",
            "Requirement already satisfied: mpmath>=0.19 in /usr/local/lib/python3.10/dist-packages (from sympy->torch->torch-fidelity) (1.3.0)\n",
            "Installing collected packages: torch-fidelity\n",
            "Successfully installed torch-fidelity-0.3.0\n",
            "Looking in indexes: https://pypi.org/simple, https://us-python.pkg.dev/colab-wheels/public/simple/\n",
            "Collecting torchmetrics\n",
            "  Downloading torchmetrics-0.11.4-py3-none-any.whl (519 kB)\n",
            "\u001b[2K     \u001b[90m━━━━━━━━━━━━━━━━━━━━━━━━━━━━━━━━━━━━━━\u001b[0m \u001b[32m519.2/519.2 kB\u001b[0m \u001b[31m14.2 MB/s\u001b[0m eta \u001b[36m0:00:00\u001b[0m\n",
            "\u001b[?25hRequirement already satisfied: numpy>=1.17.2 in /usr/local/lib/python3.10/dist-packages (from torchmetrics) (1.22.4)\n",
            "Requirement already satisfied: torch>=1.8.1 in /usr/local/lib/python3.10/dist-packages (from torchmetrics) (2.0.1+cu118)\n",
            "Requirement already satisfied: packaging in /usr/local/lib/python3.10/dist-packages (from torchmetrics) (23.1)\n",
            "Requirement already satisfied: filelock in /usr/local/lib/python3.10/dist-packages (from torch>=1.8.1->torchmetrics) (3.12.0)\n",
            "Requirement already satisfied: typing-extensions in /usr/local/lib/python3.10/dist-packages (from torch>=1.8.1->torchmetrics) (4.5.0)\n",
            "Requirement already satisfied: sympy in /usr/local/lib/python3.10/dist-packages (from torch>=1.8.1->torchmetrics) (1.11.1)\n",
            "Requirement already satisfied: networkx in /usr/local/lib/python3.10/dist-packages (from torch>=1.8.1->torchmetrics) (3.1)\n",
            "Requirement already satisfied: jinja2 in /usr/local/lib/python3.10/dist-packages (from torch>=1.8.1->torchmetrics) (3.1.2)\n",
            "Requirement already satisfied: triton==2.0.0 in /usr/local/lib/python3.10/dist-packages (from torch>=1.8.1->torchmetrics) (2.0.0)\n",
            "Requirement already satisfied: cmake in /usr/local/lib/python3.10/dist-packages (from triton==2.0.0->torch>=1.8.1->torchmetrics) (3.25.2)\n",
            "Requirement already satisfied: lit in /usr/local/lib/python3.10/dist-packages (from triton==2.0.0->torch>=1.8.1->torchmetrics) (16.0.5)\n",
            "Requirement already satisfied: MarkupSafe>=2.0 in /usr/local/lib/python3.10/dist-packages (from jinja2->torch>=1.8.1->torchmetrics) (2.1.2)\n",
            "Requirement already satisfied: mpmath>=0.19 in /usr/local/lib/python3.10/dist-packages (from sympy->torch>=1.8.1->torchmetrics) (1.3.0)\n",
            "Installing collected packages: torchmetrics\n",
            "Successfully installed torchmetrics-0.11.4\n"
          ]
        }
      ]
    },
    {
      "cell_type": "markdown",
      "source": [
        "Cloning the github repository for Contrastive Unpaired Translation"
      ],
      "metadata": {
        "id": "28bdFdVXXT9y"
      }
    },
    {
      "cell_type": "code",
      "execution_count": null,
      "metadata": {
        "colab": {
          "base_uri": "https://localhost:8080/"
        },
        "id": "ib9DM5bqb7oj",
        "outputId": "99d36a47-7981-4a94-fc00-3a440d7e82f9"
      },
      "outputs": [
        {
          "output_type": "stream",
          "name": "stdout",
          "text": [
            "Cloning into 'contrastive-unpaired-translation'...\n",
            "remote: Enumerating objects: 298, done.\u001b[K\n",
            "remote: Counting objects: 100% (20/20), done.\u001b[K\n",
            "remote: Compressing objects: 100% (20/20), done.\u001b[K\n",
            "remote: Total 298 (delta 10), reused 1 (delta 0), pack-reused 278\u001b[K\n",
            "Receiving objects: 100% (298/298), 17.92 MiB | 14.95 MiB/s, done.\n",
            "Resolving deltas: 100% (152/152), done.\n"
          ]
        }
      ],
      "source": [
        "!git clone https://github.com/makhalid1999/contrastive-unpaired-translation.git"
      ]
    },
    {
      "cell_type": "markdown",
      "source": [
        "Running the code with our data and parameters"
      ],
      "metadata": {
        "id": "BYBLPMhaXlYi"
      }
    },
    {
      "cell_type": "code",
      "source": [
        "!python /content/contrastive-unpaired-translation/train.py --name real2fake_l --dataroot '/content/drive/MyDrive/ML_DATA/Project data' --input_nc 1 --output_nc 1 --CUT_mode FastCUT  --lambda_GAN 3 #--ngf 192 #--ndf 128 --netD 'pixel'"
      ],
      "metadata": {
        "colab": {
          "base_uri": "https://localhost:8080/"
        },
        "id": "5V7a_elecXBy",
        "outputId": "13c4e373-407f-4c6a-ef48-becc176fd83e"
      },
      "execution_count": null,
      "outputs": [
        {
          "output_type": "stream",
          "name": "stdout",
          "text": [
            "----------------- Options ---------------\n",
            "                 CUT_mode: FastCUT                       \t[default: CUT]\n",
            "               batch_size: 1                             \n",
            "                    beta1: 0.5                           \n",
            "                    beta2: 0.999                         \n",
            "          checkpoints_dir: ./checkpoints                 \n",
            "           continue_train: False                         \n",
            "                crop_size: 256                           \n",
            "                 dataroot: /content/drive/MyDrive/ML_DATA/Project data\t[default: placeholder]\n",
            "             dataset_mode: unaligned                     \n",
            "                direction: AtoB                          \n",
            "              display_env: main                          \n",
            "             display_freq: 400                           \n",
            "               display_id: None                          \n",
            "            display_ncols: 4                             \n",
            "             display_port: 8097                          \n",
            "           display_server: http://localhost              \n",
            "          display_winsize: 256                           \n",
            "               easy_label: experiment_name               \n",
            "                    epoch: latest                        \n",
            "              epoch_count: 1                             \n",
            "          evaluation_freq: 5000                          \n",
            "        flip_equivariance: True                          \n",
            "                 gan_mode: lsgan                         \n",
            "                  gpu_ids: 0                             \n",
            "                init_gain: 0.02                          \n",
            "                init_type: xavier                        \n",
            "                 input_nc: 1                             \t[default: 3]\n",
            "                  isTrain: True                          \t[default: None]\n",
            "               lambda_GAN: 3.0                           \t[default: 1.0]\n",
            "               lambda_NCE: 10.0                          \n",
            "                load_size: 286                           \n",
            "                       lr: 0.0002                        \n",
            "           lr_decay_iters: 50                            \n",
            "                lr_policy: linear                        \n",
            "         max_dataset_size: inf                           \n",
            "                    model: cut                           \n",
            "                 n_epochs: 150                           \n",
            "           n_epochs_decay: 50                            \n",
            "               n_layers_D: 3                             \n",
            "                     name: real2fake_l                   \t[default: experiment_name]\n",
            "                    nce_T: 0.07                          \n",
            "                  nce_idt: False                         \n",
            "nce_includes_all_negatives_from_minibatch: False                         \n",
            "               nce_layers: 0,4,8,12,16                   \n",
            "                      ndf: 64                            \n",
            "                     netD: basic                         \n",
            "                     netF: mlp_sample                    \n",
            "                  netF_nc: 256                           \n",
            "                     netG: resnet_9blocks                \n",
            "                      ngf: 64                            \n",
            "             no_antialias: False                         \n",
            "          no_antialias_up: False                         \n",
            "               no_dropout: True                          \n",
            "                  no_flip: False                         \n",
            "                  no_html: False                         \n",
            "                    normD: instance                      \n",
            "                    normG: instance                      \n",
            "              num_patches: 256                           \n",
            "              num_threads: 4                             \n",
            "                output_nc: 1                             \t[default: 3]\n",
            "                    phase: train                         \n",
            "                pool_size: 0                             \n",
            "               preprocess: resize_and_crop               \n",
            "          pretrained_name: None                          \n",
            "               print_freq: 100                           \n",
            "         random_scale_max: 3.0                           \n",
            "             save_by_iter: False                         \n",
            "          save_epoch_freq: 5                             \n",
            "         save_latest_freq: 5000                          \n",
            "           serial_batches: False                         \n",
            "stylegan2_G_num_downsampling: 1                             \n",
            "                   suffix:                               \n",
            "         update_html_freq: 1000                          \n",
            "                  verbose: False                         \n",
            "----------------- End -------------------\n",
            "dataset [UnalignedDataset] was created\n",
            "/usr/local/lib/python3.10/dist-packages/torch/utils/data/dataloader.py:560: UserWarning: This DataLoader will create 4 worker processes in total. Our suggested max number of worker in current system is 2, which is smaller than what this DataLoader is going to create. Please be aware that excessive worker creation might get DataLoader running slow or even freeze, lower the worker number to avoid potential slowness/freeze if necessary.\n",
            "  warnings.warn(_create_warning_msg(\n",
            "model [CUTModel] was created\n",
            "The number of training images = 5178\n",
            "Setting up a new session...\n",
            "Exception in user code:\n",
            "------------------------------------------------------------\n",
            "Traceback (most recent call last):\n",
            "  File \"/usr/local/lib/python3.10/dist-packages/urllib3/connection.py\", line 174, in _new_conn\n",
            "    conn = connection.create_connection(\n",
            "  File \"/usr/local/lib/python3.10/dist-packages/urllib3/util/connection.py\", line 95, in create_connection\n",
            "    raise err\n",
            "  File \"/usr/local/lib/python3.10/dist-packages/urllib3/util/connection.py\", line 85, in create_connection\n",
            "    sock.connect(sa)\n",
            "ConnectionRefusedError: [Errno 111] Connection refused\n",
            "\n",
            "During handling of the above exception, another exception occurred:\n",
            "\n",
            "Traceback (most recent call last):\n",
            "  File \"/usr/local/lib/python3.10/dist-packages/urllib3/connectionpool.py\", line 703, in urlopen\n",
            "    httplib_response = self._make_request(\n",
            "  File \"/usr/local/lib/python3.10/dist-packages/urllib3/connectionpool.py\", line 398, in _make_request\n",
            "    conn.request(method, url, **httplib_request_kw)\n",
            "  File \"/usr/local/lib/python3.10/dist-packages/urllib3/connection.py\", line 244, in request\n",
            "    super(HTTPConnection, self).request(method, url, body=body, headers=headers)\n",
            "  File \"/usr/lib/python3.10/http/client.py\", line 1283, in request\n",
            "    self._send_request(method, url, body, headers, encode_chunked)\n",
            "  File \"/usr/lib/python3.10/http/client.py\", line 1329, in _send_request\n",
            "    self.endheaders(body, encode_chunked=encode_chunked)\n",
            "  File \"/usr/lib/python3.10/http/client.py\", line 1278, in endheaders\n",
            "    self._send_output(message_body, encode_chunked=encode_chunked)\n",
            "  File \"/usr/lib/python3.10/http/client.py\", line 1038, in _send_output\n",
            "    self.send(msg)\n",
            "  File \"/usr/lib/python3.10/http/client.py\", line 976, in send\n",
            "    self.connect()\n",
            "  File \"/usr/local/lib/python3.10/dist-packages/urllib3/connection.py\", line 205, in connect\n",
            "    conn = self._new_conn()\n",
            "  File \"/usr/local/lib/python3.10/dist-packages/urllib3/connection.py\", line 186, in _new_conn\n",
            "    raise NewConnectionError(\n",
            "urllib3.exceptions.NewConnectionError: <urllib3.connection.HTTPConnection object at 0x7fa2ec7a4f40>: Failed to establish a new connection: [Errno 111] Connection refused\n",
            "\n",
            "During handling of the above exception, another exception occurred:\n",
            "\n",
            "Traceback (most recent call last):\n",
            "  File \"/usr/local/lib/python3.10/dist-packages/requests/adapters.py\", line 440, in send\n",
            "    resp = conn.urlopen(\n",
            "  File \"/usr/local/lib/python3.10/dist-packages/urllib3/connectionpool.py\", line 787, in urlopen\n",
            "    retries = retries.increment(\n",
            "  File \"/usr/local/lib/python3.10/dist-packages/urllib3/util/retry.py\", line 592, in increment\n",
            "    raise MaxRetryError(_pool, url, error or ResponseError(cause))\n",
            "urllib3.exceptions.MaxRetryError: HTTPConnectionPool(host='localhost', port=8097): Max retries exceeded with url: /env/main (Caused by NewConnectionError('<urllib3.connection.HTTPConnection object at 0x7fa2ec7a4f40>: Failed to establish a new connection: [Errno 111] Connection refused'))\n",
            "\n",
            "During handling of the above exception, another exception occurred:\n",
            "\n",
            "Traceback (most recent call last):\n",
            "  File \"/usr/local/lib/python3.10/dist-packages/visdom/__init__.py\", line 756, in _send\n",
            "    return self._handle_post(\n",
            "  File \"/usr/local/lib/python3.10/dist-packages/visdom/__init__.py\", line 720, in _handle_post\n",
            "    r = self.session.post(url, data=data)\n",
            "  File \"/usr/local/lib/python3.10/dist-packages/requests/sessions.py\", line 577, in post\n",
            "    return self.request('POST', url, data=data, json=json, **kwargs)\n",
            "  File \"/usr/local/lib/python3.10/dist-packages/requests/sessions.py\", line 529, in request\n",
            "    resp = self.send(prep, **send_kwargs)\n",
            "  File \"/usr/local/lib/python3.10/dist-packages/requests/sessions.py\", line 645, in send\n",
            "    r = adapter.send(request, **kwargs)\n",
            "  File \"/usr/local/lib/python3.10/dist-packages/requests/adapters.py\", line 519, in send\n",
            "    raise ConnectionError(e, request=request)\n",
            "requests.exceptions.ConnectionError: HTTPConnectionPool(host='localhost', port=8097): Max retries exceeded with url: /env/main (Caused by NewConnectionError('<urllib3.connection.HTTPConnection object at 0x7fa2ec7a4f40>: Failed to establish a new connection: [Errno 111] Connection refused'))\n",
            "[Errno 99] Cannot assign requested address\n",
            "Visdom.setup_socket.<locals>.on_close() takes 1 positional argument but 3 were given\n",
            "[Errno 99] Cannot assign requested address\n",
            "Visdom.setup_socket.<locals>.on_close() takes 1 positional argument but 3 were given\n",
            "[Errno 99] Cannot assign requested address\n",
            "Visdom.setup_socket.<locals>.on_close() takes 1 positional argument but 3 were given\n",
            "Visdom python client failed to establish socket to get messages from the server. This feature is optional and can be disabled by initializing Visdom with `use_incoming_socket=False`, which will prevent waiting for this request to timeout.\n",
            "\n",
            "\n",
            "Could not connect to Visdom server. \n",
            " Trying to start a server....\n",
            "Command: /usr/bin/python3 -m visdom.server -p 8097 &>/dev/null &\n",
            "create web directory ./checkpoints/real2fake_l/web...\n",
            "[Errno 99] Cannot assign requested address\n",
            "Visdom.setup_socket.<locals>.on_close() takes 1 positional argument but 3 were given\n",
            "/content/contrastive-unpaired-translation/models/networks.py:569: UserWarning: To copy construct from a tensor, it is recommended to use sourceTensor.clone().detach() or sourceTensor.clone().detach().requires_grad_(True), rather than torch.tensor(sourceTensor).\n",
            "  patch_id = torch.tensor(patch_id, dtype=torch.long, device=feat.device)\n",
            "---------- Networks initialized -------------\n",
            "[Network G] Total number of parameters : 11.366 M\n",
            "[Network F] Total number of parameters : 0.560 M\n",
            "[Network D] Total number of parameters : 2.763 M\n",
            "-----------------------------------------------\n",
            "(epoch: 1, iters: 100, time: 0.162, data: 1.017) G_GAN: 0.918 D_real: 0.379 D_fake: 0.227 G: 44.952 NCE: 44.034 \n",
            "(epoch: 1, iters: 200, time: 0.182, data: 0.002) G_GAN: 0.805 D_real: 0.199 D_fake: 0.224 G: 44.159 NCE: 43.354 \n",
            "(epoch: 1, iters: 300, time: 0.195, data: 0.005) G_GAN: 1.420 D_real: 0.203 D_fake: 0.112 G: 41.750 NCE: 40.330 \n",
            "(epoch: 1, iters: 400, time: 0.204, data: 0.002) G_GAN: 1.306 D_real: 0.275 D_fake: 0.086 G: 39.809 NCE: 38.503 \n",
            "(epoch: 1, iters: 500, time: 0.210, data: 0.002) G_GAN: 0.949 D_real: 0.253 D_fake: 0.273 G: 40.935 NCE: 39.985 \n",
            "(epoch: 1, iters: 600, time: 0.215, data: 0.002) G_GAN: 0.578 D_real: 0.457 D_fake: 0.235 G: 39.708 NCE: 39.130 \n",
            "(epoch: 1, iters: 700, time: 0.217, data: 0.002) G_GAN: 1.413 D_real: 0.022 D_fake: 0.597 G: 41.376 NCE: 39.963 \n",
            "(epoch: 1, iters: 800, time: 0.218, data: 0.003) G_GAN: 0.707 D_real: 0.304 D_fake: 0.502 G: 40.259 NCE: 39.552 \n",
            "(epoch: 1, iters: 900, time: 0.220, data: 0.001) G_GAN: 2.272 D_real: 0.560 D_fake: 0.011 G: 38.202 NCE: 35.929 \n",
            "(epoch: 1, iters: 1000, time: 0.220, data: 0.002) G_GAN: 0.736 D_real: 0.302 D_fake: 0.138 G: 40.749 NCE: 40.014 \n",
            "(epoch: 1, iters: 1100, time: 0.221, data: 0.002) G_GAN: 1.019 D_real: 0.054 D_fake: 0.229 G: 35.652 NCE: 34.633 \n",
            "(epoch: 1, iters: 1200, time: 0.221, data: 0.003) G_GAN: 1.700 D_real: 0.516 D_fake: 0.022 G: 38.261 NCE: 36.561 \n",
            "(epoch: 1, iters: 1300, time: 0.221, data: 0.003) G_GAN: 2.163 D_real: 0.238 D_fake: 0.015 G: 35.536 NCE: 33.373 \n",
            "(epoch: 1, iters: 1400, time: 0.222, data: 0.000) G_GAN: 1.186 D_real: 0.399 D_fake: 0.056 G: 34.894 NCE: 33.707 \n",
            "(epoch: 1, iters: 1500, time: 0.222, data: 0.001) G_GAN: 2.560 D_real: 0.513 D_fake: 0.032 G: 35.492 NCE: 32.932 \n",
            "(epoch: 1, iters: 1600, time: 0.222, data: 0.002) G_GAN: 1.103 D_real: 0.033 D_fake: 0.314 G: 31.894 NCE: 30.791 \n",
            "(epoch: 1, iters: 1700, time: 0.222, data: 0.003) G_GAN: 1.004 D_real: 0.654 D_fake: 0.091 G: 39.352 NCE: 38.348 \n",
            "(epoch: 1, iters: 1800, time: 0.221, data: 0.003) G_GAN: 1.717 D_real: 0.065 D_fake: 0.423 G: 32.461 NCE: 30.744 \n",
            "(epoch: 1, iters: 1900, time: 0.222, data: 0.003) G_GAN: 2.243 D_real: 0.131 D_fake: 0.020 G: 31.890 NCE: 29.647 \n",
            "(epoch: 1, iters: 2000, time: 0.222, data: 0.002) G_GAN: 0.856 D_real: 0.594 D_fake: 0.134 G: 31.251 NCE: 30.395 \n",
            "(epoch: 1, iters: 2100, time: 0.222, data: 0.002) G_GAN: 2.730 D_real: 0.060 D_fake: 0.281 G: 38.006 NCE: 35.276 \n",
            "(epoch: 1, iters: 2200, time: 0.222, data: 0.002) G_GAN: 1.982 D_real: 0.046 D_fake: 0.025 G: 27.725 NCE: 25.744 \n",
            "(epoch: 1, iters: 2300, time: 0.222, data: 0.005) G_GAN: 1.170 D_real: 0.222 D_fake: 0.234 G: 30.223 NCE: 29.053 \n",
            "(epoch: 1, iters: 2400, time: 0.222, data: 0.002) G_GAN: 2.516 D_real: 0.029 D_fake: 0.047 G: 30.201 NCE: 27.686 \n",
            "(epoch: 1, iters: 2500, time: 0.221, data: 0.002) G_GAN: 3.616 D_real: 0.166 D_fake: 0.059 G: 31.279 NCE: 27.663 \n",
            "(epoch: 1, iters: 2600, time: 0.222, data: 0.002) G_GAN: 1.802 D_real: 0.296 D_fake: 0.078 G: 27.031 NCE: 25.229 \n",
            "(epoch: 1, iters: 2700, time: 0.222, data: 0.000) G_GAN: 3.241 D_real: 0.073 D_fake: 0.145 G: 29.883 NCE: 26.642 \n",
            "(epoch: 1, iters: 2800, time: 0.222, data: 0.010) G_GAN: 2.865 D_real: 0.065 D_fake: 0.019 G: 32.762 NCE: 29.897 \n",
            "(epoch: 1, iters: 2900, time: 0.222, data: 0.002) G_GAN: 2.626 D_real: 0.027 D_fake: 0.022 G: 27.257 NCE: 24.632 \n",
            "(epoch: 1, iters: 3000, time: 0.222, data: 0.003) G_GAN: 2.727 D_real: 0.014 D_fake: 0.018 G: 26.506 NCE: 23.779 \n",
            "(epoch: 1, iters: 3100, time: 0.222, data: 0.000) G_GAN: 1.111 D_real: 0.065 D_fake: 0.097 G: 33.142 NCE: 32.031 \n",
            "(epoch: 1, iters: 3200, time: 0.222, data: 0.002) G_GAN: 3.257 D_real: 0.041 D_fake: 0.007 G: 33.621 NCE: 30.365 \n",
            "(epoch: 1, iters: 3300, time: 0.222, data: 0.011) G_GAN: 1.998 D_real: 0.017 D_fake: 0.160 G: 29.080 NCE: 27.082 \n",
            "(epoch: 1, iters: 3400, time: 0.223, data: 0.000) G_GAN: 2.345 D_real: 0.057 D_fake: 0.028 G: 28.962 NCE: 26.617 \n",
            "(epoch: 1, iters: 3500, time: 0.222, data: 0.002) G_GAN: 3.076 D_real: 0.020 D_fake: 0.042 G: 38.974 NCE: 35.897 \n",
            "(epoch: 1, iters: 3600, time: 0.222, data: 0.002) G_GAN: 3.650 D_real: 0.010 D_fake: 0.005 G: 26.203 NCE: 22.553 \n",
            "(epoch: 1, iters: 3700, time: 0.222, data: 0.002) G_GAN: 2.107 D_real: 0.062 D_fake: 0.047 G: 29.782 NCE: 27.675 \n",
            "(epoch: 1, iters: 3800, time: 0.222, data: 0.002) G_GAN: 2.356 D_real: 0.076 D_fake: 0.026 G: 34.294 NCE: 31.939 \n",
            "(epoch: 1, iters: 3900, time: 0.222, data: 0.000) G_GAN: 2.948 D_real: 0.014 D_fake: 0.027 G: 26.979 NCE: 24.031 \n",
            "(epoch: 1, iters: 4000, time: 0.221, data: 0.002) G_GAN: 2.920 D_real: 0.254 D_fake: 0.015 G: 23.654 NCE: 20.733 \n",
            "(epoch: 1, iters: 4100, time: 0.221, data: 0.009) G_GAN: 3.317 D_real: 0.043 D_fake: 0.025 G: 24.158 NCE: 20.840 \n",
            "(epoch: 1, iters: 4200, time: 0.222, data: 0.002) G_GAN: 1.280 D_real: 0.065 D_fake: 0.573 G: 25.556 NCE: 24.276 \n",
            "(epoch: 1, iters: 4300, time: 0.221, data: 0.003) G_GAN: 2.844 D_real: 0.052 D_fake: 0.067 G: 25.145 NCE: 22.301 \n",
            "(epoch: 1, iters: 4400, time: 0.222, data: 0.000) G_GAN: 2.909 D_real: 0.035 D_fake: 0.012 G: 24.224 NCE: 21.315 \n",
            "(epoch: 1, iters: 4500, time: 0.221, data: 0.000) G_GAN: 1.705 D_real: 0.055 D_fake: 0.045 G: 24.285 NCE: 22.579 \n",
            "(epoch: 1, iters: 4600, time: 0.222, data: 0.002) G_GAN: 1.290 D_real: 0.036 D_fake: 0.161 G: 23.525 NCE: 22.235 \n",
            "(epoch: 1, iters: 4700, time: 0.222, data: 0.002) G_GAN: 1.277 D_real: 0.632 D_fake: 0.007 G: 30.100 NCE: 28.823 \n",
            "(epoch: 1, iters: 4800, time: 0.222, data: 0.003) G_GAN: 4.121 D_real: 0.007 D_fake: 0.042 G: 26.421 NCE: 22.301 \n",
            "(epoch: 1, iters: 4900, time: 0.222, data: 0.001) G_GAN: 3.322 D_real: 0.024 D_fake: 0.010 G: 26.532 NCE: 23.210 \n",
            "(epoch: 1, iters: 5000, time: 0.222, data: 0.002) G_GAN: 2.469 D_real: 0.011 D_fake: 0.048 G: 27.191 NCE: 24.722 \n",
            "saving the latest model (epoch 1, total_iters 5000)\n",
            "real2fake_l\n",
            "(epoch: 1, iters: 5100, time: 0.221, data: 0.018) G_GAN: 2.914 D_real: 0.026 D_fake: 0.014 G: 26.110 NCE: 23.196 \n",
            "End of epoch 1 / 200 \t Time Taken: 1166 sec\n",
            "learning rate = 0.0002000\n",
            "(epoch: 2, iters: 22, time: 0.221, data: 0.002) G_GAN: 2.400 D_real: 0.274 D_fake: 0.011 G: 25.712 NCE: 23.312 \n",
            "(epoch: 2, iters: 122, time: 0.221, data: 0.002) G_GAN: 3.126 D_real: 0.022 D_fake: 0.020 G: 31.605 NCE: 28.480 \n",
            "(epoch: 2, iters: 222, time: 0.221, data: 0.012) G_GAN: 3.050 D_real: 0.096 D_fake: 0.015 G: 22.486 NCE: 19.436 \n",
            "(epoch: 2, iters: 322, time: 0.221, data: 0.002) G_GAN: 1.332 D_real: 0.231 D_fake: 0.130 G: 23.236 NCE: 21.904 \n",
            "(epoch: 2, iters: 422, time: 0.221, data: 0.002) G_GAN: 1.370 D_real: 0.021 D_fake: 0.126 G: 19.850 NCE: 18.480 \n",
            "(epoch: 2, iters: 522, time: 0.221, data: 0.002) G_GAN: 3.052 D_real: 0.039 D_fake: 0.040 G: 22.709 NCE: 19.656 \n",
            "(epoch: 2, iters: 622, time: 0.221, data: 0.001) G_GAN: 2.270 D_real: 0.010 D_fake: 0.040 G: 23.792 NCE: 21.522 \n",
            "(epoch: 2, iters: 722, time: 0.221, data: 0.016) G_GAN: 1.811 D_real: 0.089 D_fake: 0.124 G: 30.143 NCE: 28.332 \n",
            "(epoch: 2, iters: 822, time: 0.221, data: 0.003) G_GAN: 2.585 D_real: 0.005 D_fake: 0.033 G: 28.481 NCE: 25.896 \n",
            "(epoch: 2, iters: 922, time: 0.221, data: 0.001) G_GAN: 3.293 D_real: 0.023 D_fake: 0.006 G: 22.702 NCE: 19.409 \n",
            "(epoch: 2, iters: 1022, time: 0.221, data: 0.008) G_GAN: 2.171 D_real: 0.013 D_fake: 0.024 G: 32.032 NCE: 29.862 \n",
            "(epoch: 2, iters: 1122, time: 0.221, data: 0.002) G_GAN: 1.684 D_real: 0.213 D_fake: 0.016 G: 20.215 NCE: 18.532 \n",
            "(epoch: 2, iters: 1222, time: 0.221, data: 0.000) G_GAN: 2.363 D_real: 0.053 D_fake: 0.024 G: 25.037 NCE: 22.674 \n",
            "(epoch: 2, iters: 1322, time: 0.221, data: 0.002) G_GAN: 2.669 D_real: 0.196 D_fake: 0.077 G: 22.164 NCE: 19.496 \n",
            "(epoch: 2, iters: 1422, time: 0.221, data: 0.002) G_GAN: 3.069 D_real: 0.007 D_fake: 0.003 G: 23.843 NCE: 20.774 \n",
            "(epoch: 2, iters: 1522, time: 0.221, data: 0.002) G_GAN: 2.778 D_real: 0.045 D_fake: 0.009 G: 24.718 NCE: 21.940 \n",
            "(epoch: 2, iters: 1622, time: 0.222, data: 0.001) G_GAN: 1.868 D_real: 0.104 D_fake: 0.024 G: 23.351 NCE: 21.482 \n",
            "(epoch: 2, iters: 1722, time: 0.222, data: 0.002) G_GAN: 3.320 D_real: 0.047 D_fake: 0.037 G: 27.259 NCE: 23.939 \n",
            "(epoch: 2, iters: 1822, time: 0.222, data: 0.002) G_GAN: 2.835 D_real: 0.019 D_fake: 0.025 G: 28.293 NCE: 25.458 \n",
            "(epoch: 2, iters: 1922, time: 0.222, data: 0.003) G_GAN: 1.729 D_real: 0.138 D_fake: 0.185 G: 24.049 NCE: 22.320 \n",
            "(epoch: 2, iters: 2022, time: 0.222, data: 0.004) G_GAN: 2.877 D_real: 0.011 D_fake: 0.005 G: 24.228 NCE: 21.351 \n",
            "(epoch: 2, iters: 2122, time: 0.222, data: 0.003) G_GAN: 2.911 D_real: 0.059 D_fake: 0.022 G: 20.641 NCE: 17.730 \n",
            "(epoch: 2, iters: 2222, time: 0.222, data: 0.003) G_GAN: 2.803 D_real: 0.027 D_fake: 0.050 G: 21.068 NCE: 18.265 \n",
            "(epoch: 2, iters: 2322, time: 0.222, data: 0.002) G_GAN: 1.872 D_real: 0.041 D_fake: 0.259 G: 19.223 NCE: 17.350 \n",
            "(epoch: 2, iters: 2422, time: 0.221, data: 0.000) G_GAN: 2.078 D_real: 0.337 D_fake: 0.034 G: 24.765 NCE: 22.688 \n",
            "(epoch: 2, iters: 2522, time: 0.221, data: 0.002) G_GAN: 2.681 D_real: 0.046 D_fake: 0.019 G: 22.953 NCE: 20.272 \n",
            "(epoch: 2, iters: 2622, time: 0.221, data: 0.002) G_GAN: 3.520 D_real: 0.022 D_fake: 0.023 G: 22.384 NCE: 18.864 \n",
            "(epoch: 2, iters: 2722, time: 0.221, data: 0.002) G_GAN: 1.581 D_real: 0.146 D_fake: 0.040 G: 20.931 NCE: 19.349 \n",
            "(epoch: 2, iters: 2822, time: 0.221, data: 0.002) G_GAN: 2.892 D_real: 0.027 D_fake: 0.074 G: 26.823 NCE: 23.931 \n",
            "(epoch: 2, iters: 2922, time: 0.221, data: 0.002) G_GAN: 2.982 D_real: 0.024 D_fake: 0.015 G: 23.977 NCE: 20.995 \n",
            "(epoch: 2, iters: 3022, time: 0.221, data: 0.002) G_GAN: 2.040 D_real: 0.090 D_fake: 0.020 G: 21.204 NCE: 19.164 \n",
            "(epoch: 2, iters: 3122, time: 0.222, data: 0.002) G_GAN: 2.718 D_real: 0.017 D_fake: 0.011 G: 20.464 NCE: 17.745 \n",
            "(epoch: 2, iters: 3222, time: 0.221, data: 0.001) G_GAN: 2.766 D_real: 0.007 D_fake: 0.004 G: 28.665 NCE: 25.899 \n",
            "(epoch: 2, iters: 3322, time: 0.221, data: 0.000) G_GAN: 2.939 D_real: 0.010 D_fake: 0.004 G: 24.637 NCE: 21.698 \n",
            "(epoch: 2, iters: 3422, time: 0.221, data: 0.000) G_GAN: 2.679 D_real: 0.021 D_fake: 0.015 G: 29.968 NCE: 27.289 \n",
            "(epoch: 2, iters: 3522, time: 0.222, data: 0.006) G_GAN: 2.490 D_real: 0.107 D_fake: 0.056 G: 30.065 NCE: 27.575 \n",
            "(epoch: 2, iters: 3622, time: 0.222, data: 0.002) G_GAN: 1.155 D_real: 0.839 D_fake: 0.016 G: 35.393 NCE: 34.238 \n",
            "(epoch: 2, iters: 3722, time: 0.221, data: 0.002) G_GAN: 3.453 D_real: 0.066 D_fake: 0.035 G: 23.011 NCE: 19.558 \n",
            "(epoch: 2, iters: 3822, time: 0.221, data: 0.002) G_GAN: 2.885 D_real: 0.021 D_fake: 0.004 G: 22.847 NCE: 19.961 \n",
            "(epoch: 2, iters: 3922, time: 0.221, data: 0.004) G_GAN: 2.879 D_real: 0.111 D_fake: 0.071 G: 23.640 NCE: 20.761 \n",
            "(epoch: 2, iters: 4022, time: 0.221, data: 0.000) G_GAN: 2.677 D_real: 0.016 D_fake: 0.019 G: 18.993 NCE: 16.316 \n",
            "(epoch: 2, iters: 4122, time: 0.221, data: 0.000) G_GAN: 1.599 D_real: 0.152 D_fake: 0.058 G: 25.575 NCE: 23.976 \n",
            "(epoch: 2, iters: 4222, time: 0.221, data: 0.000) G_GAN: 2.951 D_real: 0.017 D_fake: 0.010 G: 19.861 NCE: 16.909 \n",
            "(epoch: 2, iters: 4322, time: 0.221, data: 0.001) G_GAN: 2.785 D_real: 0.037 D_fake: 0.019 G: 27.438 NCE: 24.653 \n",
            "(epoch: 2, iters: 4422, time: 0.222, data: 0.002) G_GAN: 1.160 D_real: 0.079 D_fake: 0.347 G: 21.068 NCE: 19.907 \n",
            "(epoch: 2, iters: 4522, time: 0.221, data: 0.008) G_GAN: 3.631 D_real: 0.004 D_fake: 0.020 G: 24.134 NCE: 20.503 \n",
            "(epoch: 2, iters: 4622, time: 0.221, data: 0.002) G_GAN: 3.025 D_real: 0.025 D_fake: 0.013 G: 19.882 NCE: 16.857 \n",
            "(epoch: 2, iters: 4722, time: 0.221, data: 0.002) G_GAN: 2.996 D_real: 0.063 D_fake: 0.040 G: 20.862 NCE: 17.866 \n",
            "(epoch: 2, iters: 4822, time: 0.221, data: 0.003) G_GAN: 2.734 D_real: 0.014 D_fake: 0.006 G: 22.428 NCE: 19.694 \n",
            "saving the latest model (epoch 2, total_iters 10000)\n",
            "real2fake_l\n",
            "(epoch: 2, iters: 4922, time: 0.221, data: 0.000) G_GAN: 2.796 D_real: 0.017 D_fake: 0.117 G: 16.996 NCE: 14.200 \n",
            "(epoch: 2, iters: 5022, time: 0.222, data: 0.001) G_GAN: 2.136 D_real: 0.075 D_fake: 0.101 G: 21.561 NCE: 19.425 \n",
            "Traceback (most recent call last):\n",
            "  File \"/content/contrastive-unpaired-translation/train.py\", line 47, in <module>\n",
            "    model.optimize_parameters()   # calculate loss functions, get gradients, update network weights\n",
            "  File \"/content/contrastive-unpaired-translation/models/cut_model.py\", line 129, in optimize_parameters\n",
            "    self.loss_G = self.compute_G_loss()\n",
            "  File \"/content/contrastive-unpaired-translation/models/cut_model.py\", line 185, in compute_G_loss\n",
            "    self.loss_NCE = self.calculate_NCE_loss(self.real_A, self.fake_B)\n",
            "  File \"/content/contrastive-unpaired-translation/models/cut_model.py\", line 206, in calculate_NCE_loss\n",
            "    feat_k_pool, sample_ids = self.netF(feat_k, self.opt.num_patches, None)\n",
            "  File \"/usr/local/lib/python3.10/dist-packages/torch/nn/modules/module.py\", line 1501, in _call_impl\n",
            "    return forward_call(*args, **kwargs)\n",
            "  File \"/usr/local/lib/python3.10/dist-packages/torch/nn/parallel/data_parallel.py\", line 169, in forward\n",
            "    return self.module(*inputs[0], **kwargs[0])\n",
            "  File \"/usr/local/lib/python3.10/dist-packages/torch/nn/modules/module.py\", line 1501, in _call_impl\n",
            "    return forward_call(*args, **kwargs)\n",
            "  File \"/content/contrastive-unpaired-translation/models/networks.py\", line 569, in forward\n",
            "    patch_id = torch.tensor(patch_id, dtype=torch.long, device=feat.device)\n",
            "KeyboardInterrupt\n",
            "^C\n"
          ]
        }
      ]
    },
    {
      "cell_type": "markdown",
      "source": [
        "Getting the results"
      ],
      "metadata": {
        "id": "HLwG5Vs_XqsF"
      }
    },
    {
      "cell_type": "code",
      "source": [
        "!python '/content/contrastive-unpaired-translation/test.py' --name real2fake_l --dataroot '/content/drive/MyDrive/ML_DATA/Project data' --input_nc 1 --output_nc 1 #--ngf 192 #--ndf 128 --netD 'pixel'"
      ],
      "metadata": {
        "colab": {
          "base_uri": "https://localhost:8080/"
        },
        "id": "pBWakmUXdeec",
        "outputId": "42201a32-9df2-4b83-f4c5-e6b8511e8834"
      },
      "execution_count": null,
      "outputs": [
        {
          "output_type": "stream",
          "name": "stdout",
          "text": [
            "----------------- Options ---------------\n",
            "                 CUT_mode: CUT                           \n",
            "               batch_size: 1                             \n",
            "          checkpoints_dir: ./checkpoints                 \n",
            "                crop_size: 256                           \n",
            "                 dataroot: /content/drive/MyDrive/ML_DATA/Project data\t[default: placeholder]\n",
            "             dataset_mode: unaligned                     \n",
            "                direction: AtoB                          \n",
            "          display_winsize: 256                           \n",
            "               easy_label: experiment_name               \n",
            "                    epoch: latest                        \n",
            "                     eval: False                         \n",
            "        flip_equivariance: False                         \n",
            "                  gpu_ids: 0                             \n",
            "                init_gain: 0.02                          \n",
            "                init_type: xavier                        \n",
            "                 input_nc: 1                             \t[default: 3]\n",
            "                  isTrain: False                         \t[default: None]\n",
            "               lambda_GAN: 1.0                           \n",
            "               lambda_NCE: 1.0                           \n",
            "                load_size: 256                           \n",
            "         max_dataset_size: inf                           \n",
            "                    model: cut                           \n",
            "               n_layers_D: 3                             \n",
            "                     name: real2fake_l                   \t[default: experiment_name]\n",
            "                    nce_T: 0.07                          \n",
            "                  nce_idt: True                          \n",
            "nce_includes_all_negatives_from_minibatch: False                         \n",
            "               nce_layers: 0,4,8,12,16                   \n",
            "                      ndf: 64                            \n",
            "                     netD: basic                         \n",
            "                     netF: mlp_sample                    \n",
            "                  netF_nc: 256                           \n",
            "                     netG: resnet_9blocks                \n",
            "                      ngf: 64                            \n",
            "             no_antialias: False                         \n",
            "          no_antialias_up: False                         \n",
            "               no_dropout: True                          \n",
            "                  no_flip: False                         \n",
            "                    normD: instance                      \n",
            "                    normG: instance                      \n",
            "              num_patches: 256                           \n",
            "                 num_test: 50                            \n",
            "              num_threads: 4                             \n",
            "                output_nc: 1                             \t[default: 3]\n",
            "                    phase: test                          \n",
            "                pool_size: 0                             \n",
            "               preprocess: resize_and_crop               \n",
            "         random_scale_max: 3.0                           \n",
            "              results_dir: ./results/                    \n",
            "           serial_batches: False                         \n",
            "stylegan2_G_num_downsampling: 1                             \n",
            "                   suffix:                               \n",
            "                  verbose: False                         \n",
            "----------------- End -------------------\n",
            "dataset [UnalignedDataset] was created\n",
            "dataset [UnalignedDataset] was created\n",
            "model [CUTModel] was created\n",
            "creating web directory ./results/real2fake_l/test_latest\n",
            "loading the model from ./checkpoints/real2fake_l/latest_net_G.pth\n",
            "---------- Networks initialized -------------\n",
            "[Network G] Total number of parameters : 11.366 M\n",
            "-----------------------------------------------\n",
            "processing (0000)-th image... ['/content/drive/MyDrive/ML_DATA/Project data/nyu_test/100.png']\n",
            "processing (0005)-th image... ['/content/drive/MyDrive/ML_DATA/Project data/nyu_test/112.png']\n",
            "processing (0010)-th image... ['/content/drive/MyDrive/ML_DATA/Project data/nyu_test/134.png']\n",
            "processing (0015)-th image... ['/content/drive/MyDrive/ML_DATA/Project data/nyu_test/150.png']\n",
            "processing (0020)-th image... ['/content/drive/MyDrive/ML_DATA/Project data/nyu_test/24.png']\n",
            "processing (0025)-th image... ['/content/drive/MyDrive/ML_DATA/Project data/nyu_test/33.png']\n",
            "processing (0030)-th image... ['/content/drive/MyDrive/ML_DATA/Project data/nyu_test/47.png']\n",
            "processing (0035)-th image... ['/content/drive/MyDrive/ML_DATA/Project data/nyu_test/63.png']\n",
            "processing (0040)-th image... ['/content/drive/MyDrive/ML_DATA/Project data/nyu_test/75.png']\n",
            "processing (0045)-th image... ['/content/drive/MyDrive/ML_DATA/Project data/nyu_test/86.png']\n"
          ]
        }
      ]
    },
    {
      "cell_type": "code",
      "source": [
        "import os\n",
        "files = os.listdir('/content/results/real2fake_l/test_latest/images/fake_B')\n",
        "import torch\n",
        "from PIL import Image\n",
        "import numpy as np\n",
        "images = []\n",
        "for file in files:\n",
        "  image = Image.open('/content/results/real2fake_l/test_latest/images/fake_B/' + file).convert(\"F\")\n",
        "  image = np.asarray(image)\n",
        "  image = torch.from_numpy(image).unsqueeze(0).float()\n",
        "  images.append(image)\n",
        "images = torch.stack(images)\n",
        "print(images.shape)"
      ],
      "metadata": {
        "id": "ycvw3vO_RluD",
        "colab": {
          "base_uri": "https://localhost:8080/"
        },
        "outputId": "f53c85e3-7ee1-4143-f0bb-021f4f1fa746"
      },
      "execution_count": null,
      "outputs": [
        {
          "output_type": "stream",
          "name": "stdout",
          "text": [
            "torch.Size([47, 1, 256, 256])\n"
          ]
        }
      ]
    },
    {
      "cell_type": "markdown",
      "source": [
        "Importing the images in a vector format for metric calculations"
      ],
      "metadata": {
        "id": "OY9TEIZPXxtM"
      }
    },
    {
      "cell_type": "code",
      "source": [
        "import os\n",
        "files = os.listdir('/content/drive/MyDrive/ML_DATA/Project data/nyu/office_real/nyu_office_1_out')\n",
        "images_r = []\n",
        "for file in files[0:47]:\n",
        "  image_r = Image.open('/content/drive/MyDrive/ML_DATA/Project data/nyu/office_real/nyu_office_1_out/' + file).convert(\"F\")\n",
        "  image_r = np.asarray(image_r)\n",
        "  image_r = torch.from_numpy(image_r).unsqueeze(0).float()\n",
        "  images_r.append(image_r)\n",
        "images_r = torch.stack(images_r)[0:50]"
      ],
      "metadata": {
        "id": "qeD-UArjTELP"
      },
      "execution_count": null,
      "outputs": []
    },
    {
      "cell_type": "code",
      "source": [
        "import os\n",
        "files = os.listdir('/content/results/real2fake_l/test_latest/images/real_B/')\n",
        "images_f = []\n",
        "for file in files[0:47]:\n",
        "  image_f = Image.open('/content/results/real2fake_l/test_latest/images/real_B/' + file).convert(\"F\")\n",
        "  image_f = np.asarray(image_f)\n",
        "  image_f = torch.from_numpy(image_f).unsqueeze(0).float()\n",
        "  images_f.append(image_f)\n",
        "images_f = torch.stack(images_f)[0:50]"
      ],
      "metadata": {
        "id": "YvtxysY3ocbS"
      },
      "execution_count": null,
      "outputs": []
    },
    {
      "cell_type": "markdown",
      "source": [
        "Finding the Frechet Inception Distance"
      ],
      "metadata": {
        "id": "u1LpCCwsX2kd"
      }
    },
    {
      "cell_type": "code",
      "source": [
        "from torchmetrics.image.fid import FrechetInceptionDistance\n",
        "fid = FrechetInceptionDistance(feature=64)\n",
        "fid.update(torch.cat((images_f, images_f, images_f), 1)[:, :, :256, :256].type(torch.uint8), real = True)\n",
        "fid.update(torch.cat((images_r, images_r, images_r), 1)[:, :, :256, :256].type(torch.uint8), real = False)\n",
        "fid.compute()"
      ],
      "metadata": {
        "id": "Cbdy7oIBS2sD",
        "colab": {
          "base_uri": "https://localhost:8080/"
        },
        "outputId": "ba291010-153d-4cd6-c6b1-e611dfb84d58"
      },
      "execution_count": null,
      "outputs": [
        {
          "output_type": "execute_result",
          "data": {
            "text/plain": [
              "tensor(6.8698)"
            ]
          },
          "metadata": {},
          "execution_count": 18
        }
      ]
    }
  ]
}